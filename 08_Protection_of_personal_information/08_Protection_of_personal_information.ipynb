{
 "cells": [
  {
   "cell_type": "markdown",
   "id": "established-hospital",
   "metadata": {
    "toc": true
   },
   "source": [
    "<h1>Содержание<span class=\"tocSkip\"></span></h1>\n",
    "<div class=\"toc\"><ul class=\"toc-item\"><li><span><a href=\"#Изучение-и-подготовка-данных\" data-toc-modified-id=\"Изучение-и-подготовка-данных-1\"><span class=\"toc-item-num\">1&nbsp;&nbsp;</span>Изучение и подготовка данных</a></span></li><li><span><a href=\"#Признаки-умножают-на-обратимую-матрицу.-Изменится-ли-качество-линейной-регрессии?\" data-toc-modified-id=\"Признаки-умножают-на-обратимую-матрицу.-Изменится-ли-качество-линейной-регрессии?-2\"><span class=\"toc-item-num\">2&nbsp;&nbsp;</span>Признаки умножают на обратимую матрицу. Изменится ли качество линейной регрессии?</a></span></li><li><span><a href=\"#Алгоритм-преобразования-данных\" data-toc-modified-id=\"Алгоритм-преобразования-данных-3\"><span class=\"toc-item-num\">3&nbsp;&nbsp;</span>Алгоритм преобразования данных</a></span></li><li><span><a href=\"#Проверка-алгоритма\" data-toc-modified-id=\"Проверка-алгоритма-4\"><span class=\"toc-item-num\">4&nbsp;&nbsp;</span>Проверка алгоритма</a></span></li><li><span><a href=\"#Выводы\" data-toc-modified-id=\"Выводы-5\"><span class=\"toc-item-num\">5&nbsp;&nbsp;</span>Выводы</a></span></li></ul></div>"
   ]
  },
  {
   "cell_type": "markdown",
   "id": "swedish-rubber",
   "metadata": {},
   "source": [
    "## Изучение и подготовка данных"
   ]
  },
  {
   "cell_type": "code",
   "execution_count": 4,
   "id": "listed-period",
   "metadata": {},
   "outputs": [],
   "source": [
    "import pandas as pd\n",
    "import numpy as np\n",
    "\n",
    "from sklearn.linear_model import LinearRegression\n",
    "from sklearn.metrics import mean_squared_error\n",
    "from sklearn.metrics import r2_score"
   ]
  },
  {
   "cell_type": "code",
   "execution_count": 5,
   "id": "protecting-anxiety",
   "metadata": {
    "scrolled": false
   },
   "outputs": [
    {
     "data": {
      "text/html": [
       "<div>\n",
       "<style scoped>\n",
       "    .dataframe tbody tr th:only-of-type {\n",
       "        vertical-align: middle;\n",
       "    }\n",
       "\n",
       "    .dataframe tbody tr th {\n",
       "        vertical-align: top;\n",
       "    }\n",
       "\n",
       "    .dataframe thead th {\n",
       "        text-align: right;\n",
       "    }\n",
       "</style>\n",
       "<table border=\"1\" class=\"dataframe\">\n",
       "  <thead>\n",
       "    <tr style=\"text-align: right;\">\n",
       "      <th></th>\n",
       "      <th>Пол</th>\n",
       "      <th>Возраст</th>\n",
       "      <th>Зарплата</th>\n",
       "      <th>Члены семьи</th>\n",
       "      <th>Страховые выплаты</th>\n",
       "    </tr>\n",
       "  </thead>\n",
       "  <tbody>\n",
       "    <tr>\n",
       "      <td>0</td>\n",
       "      <td>1</td>\n",
       "      <td>41.0</td>\n",
       "      <td>49600.0</td>\n",
       "      <td>1</td>\n",
       "      <td>0</td>\n",
       "    </tr>\n",
       "    <tr>\n",
       "      <td>1</td>\n",
       "      <td>0</td>\n",
       "      <td>46.0</td>\n",
       "      <td>38000.0</td>\n",
       "      <td>1</td>\n",
       "      <td>1</td>\n",
       "    </tr>\n",
       "    <tr>\n",
       "      <td>2</td>\n",
       "      <td>0</td>\n",
       "      <td>29.0</td>\n",
       "      <td>21000.0</td>\n",
       "      <td>0</td>\n",
       "      <td>0</td>\n",
       "    </tr>\n",
       "    <tr>\n",
       "      <td>3</td>\n",
       "      <td>0</td>\n",
       "      <td>21.0</td>\n",
       "      <td>41700.0</td>\n",
       "      <td>2</td>\n",
       "      <td>0</td>\n",
       "    </tr>\n",
       "    <tr>\n",
       "      <td>4</td>\n",
       "      <td>1</td>\n",
       "      <td>28.0</td>\n",
       "      <td>26100.0</td>\n",
       "      <td>0</td>\n",
       "      <td>0</td>\n",
       "    </tr>\n",
       "  </tbody>\n",
       "</table>\n",
       "</div>"
      ],
      "text/plain": [
       "   Пол  Возраст  Зарплата  Члены семьи  Страховые выплаты\n",
       "0    1     41.0   49600.0            1                  0\n",
       "1    0     46.0   38000.0            1                  1\n",
       "2    0     29.0   21000.0            0                  0\n",
       "3    0     21.0   41700.0            2                  0\n",
       "4    1     28.0   26100.0            0                  0"
      ]
     },
     "execution_count": 5,
     "metadata": {},
     "output_type": "execute_result"
    }
   ],
   "source": [
    "# # Код для считывания данных\n",
    "df = pd.read_csv('df_insurance.csv')\n",
    "df.head()"
   ]
  },
  {
   "cell_type": "code",
   "execution_count": 7,
   "id": "personalized-headline",
   "metadata": {
    "scrolled": true
   },
   "outputs": [
    {
     "name": "stdout",
     "output_type": "stream",
     "text": [
      "<class 'pandas.core.frame.DataFrame'>\n",
      "RangeIndex: 5000 entries, 0 to 4999\n",
      "Data columns (total 5 columns):\n",
      "Пол                  5000 non-null int64\n",
      "Возраст              5000 non-null float64\n",
      "Зарплата             5000 non-null float64\n",
      "Члены семьи          5000 non-null int64\n",
      "Страховые выплаты    5000 non-null int64\n",
      "dtypes: float64(2), int64(3)\n",
      "memory usage: 195.4 KB\n"
     ]
    }
   ],
   "source": [
    "df.info()"
   ]
  },
  {
   "cell_type": "code",
   "execution_count": 8,
   "id": "mighty-disney",
   "metadata": {},
   "outputs": [
    {
     "data": {
      "text/plain": [
       "array([0, 1, 2, 3, 5, 4])"
      ]
     },
     "execution_count": 8,
     "metadata": {},
     "output_type": "execute_result"
    }
   ],
   "source": [
    "# Поиск уникальных значений в столбце 'Страховые выплаты'\n",
    "df['Страховые выплаты'].unique()"
   ]
  },
  {
   "cell_type": "code",
   "execution_count": 9,
   "id": "useful-limit",
   "metadata": {},
   "outputs": [],
   "source": [
    "# Замена вещественного типа данных на целочисленный\n",
    "df['Возраст'] = df['Возраст'].astype('int')\n",
    "df['Зарплата'] = df['Зарплата'].astype('int')"
   ]
  },
  {
   "cell_type": "code",
   "execution_count": 10,
   "id": "acute-martial",
   "metadata": {},
   "outputs": [
    {
     "name": "stdout",
     "output_type": "stream",
     "text": [
      "<class 'pandas.core.frame.DataFrame'>\n",
      "RangeIndex: 5000 entries, 0 to 4999\n",
      "Data columns (total 5 columns):\n",
      "Пол                  5000 non-null int64\n",
      "Возраст              5000 non-null int64\n",
      "Зарплата             5000 non-null int64\n",
      "Члены семьи          5000 non-null int64\n",
      "Страховые выплаты    5000 non-null int64\n",
      "dtypes: int64(5)\n",
      "memory usage: 195.4 KB\n"
     ]
    }
   ],
   "source": [
    "df.info()"
   ]
  },
  {
   "cell_type": "code",
   "execution_count": 11,
   "id": "complex-oxford",
   "metadata": {},
   "outputs": [
    {
     "name": "stdout",
     "output_type": "stream",
     "text": [
      "0    0.8872\n",
      "1    0.0846\n",
      "2    0.0230\n",
      "3    0.0036\n",
      "4    0.0014\n",
      "5    0.0002\n",
      "Name: Страховые выплаты, dtype: float64\n"
     ]
    },
    {
     "data": {
      "image/png": "[encoded data removed]",
      "text/plain": [
       "<Figure size 432x288 with 1 Axes>"
      ]
     },
     "metadata": {
      "needs_background": "light"
     },
     "output_type": "display_data"
    }
   ],
   "source": [
    "# Проверим, как часто в целевом признаке встречается разное количество выплат\n",
    "class_frequency = df['Страховые выплаты'].value_counts(normalize=True)\n",
    "print(class_frequency)\n",
    "class_frequency.plot(kind='bar');"
   ]
  },
  {
   "cell_type": "markdown",
   "id": "chicken-external",
   "metadata": {},
   "source": [
    "Так как в колонке возраст и зарплата все значения были целыми при вещественном типе данных, тип данных поменяли на целочисленный. Нашли уникальные значения в количестве страховых выплатах и посмотрели распределение по выплатам."
   ]
  },
  {
   "cell_type": "markdown",
   "id": "velvet-istanbul",
   "metadata": {},
   "source": [
    "## Признаки умножают на обратимую матрицу. Изменится ли качество линейной регрессии?"
   ]
  },
  {
   "cell_type": "code",
   "execution_count": 12,
   "id": "dedicated-algorithm",
   "metadata": {},
   "outputs": [
    {
     "data": {
      "text/plain": [
       "((5000, 4), (5000,))"
      ]
     },
     "execution_count": 12,
     "metadata": {},
     "output_type": "execute_result"
    }
   ],
   "source": [
    "# Выделим переменные и целевой признаки\n",
    "features=df.drop('Страховые выплаты', axis=1)\n",
    "target=df['Страховые выплаты']\n",
    "features.shape, target.shape"
   ]
  },
  {
   "cell_type": "code",
   "execution_count": 13,
   "id": "spatial-republican",
   "metadata": {
    "scrolled": true
   },
   "outputs": [
    {
     "name": "stdout",
     "output_type": "stream",
     "text": [
      "Случайная матрица: \n",
      " [[19.79529234 20.47894334 19.48056128 19.4442697 ]\n",
      " [21.96578057 21.39340583 20.09290788 20.28174615]\n",
      " [20.76902257 21.24643474 21.00718936 18.70377889]\n",
      " [20.27499163 20.22891288 21.35291684 20.88642934]] \n",
      "\n",
      "Обратная матрица: \n",
      " [[-0.88988712  0.72926531  0.06040012  0.06620187]\n",
      " [ 1.00083592 -0.4650729   0.05293891 -0.5275287 ]\n",
      " [-0.42902209 -0.23814125  0.35871112  0.30942045]\n",
      " [ 0.33311123 -0.01402434 -0.47662706  0.17820473]]\n"
     ]
    }
   ],
   "source": [
    "# Сгенерируем случайную матрицу 4*4 и найдем обратную ей\n",
    "np.random.seed(12345)\n",
    "matrix = np.random.normal(20, size=(4, 4))\n",
    "inverse_matrix = np.linalg.inv(matrix)\n",
    "print('Случайная матрица: \\n', matrix, '\\n')\n",
    "print('Обратная матрица: \\n', inverse_matrix)"
   ]
  },
  {
   "cell_type": "code",
   "execution_count": 14,
   "id": "floating-afternoon",
   "metadata": {},
   "outputs": [
    {
     "name": "stdout",
     "output_type": "stream",
     "text": [
      "MSE модели линейной регрессии на первоначальных признаках \n",
      " 0.12334688937098948\n"
     ]
    }
   ],
   "source": [
    "# Проверим качество модели линейной регрессии на первоначальных признаках с помощью MSE\n",
    "model=LinearRegression()\n",
    "model.fit(features, target)\n",
    "predictions=model.predict(features)\n",
    "print('MSE модели линейной регрессии на первоначальных признаках \\n', mean_squared_error(target, predictions))"
   ]
  },
  {
   "cell_type": "code",
   "execution_count": 15,
   "id": "established-opera",
   "metadata": {
    "scrolled": true
   },
   "outputs": [
    {
     "name": "stdout",
     "output_type": "stream",
     "text": [
      "MSE модели линейной регрессии на первоначальных признаках, домноженных на обратную матрицу \n",
      " 0.12334688937097495\n"
     ]
    }
   ],
   "source": [
    "# Проверим качество модели линейной регрессии на матрице признаков домноженной на обратимую матрицу с помощью R2\n",
    "model_inv=LinearRegression()\n",
    "features_inv = features.dot(inverse_matrix)\n",
    "model_inv.fit(features_inv, target)\n",
    "predictions=model_inv.predict(features_inv)\n",
    "print('MSE модели линейной регрессии на первоначальных признаках, домноженных на обратную матрицу \\n',\n",
    "      mean_squared_error(target, predictions))"
   ]
  },
  {
   "cell_type": "markdown",
   "id": "brown-cyprus",
   "metadata": {},
   "source": [
    "Посчитаные MSE до и после преобразования говорят о том, что качество моделей не изменилось!"
   ]
  },
  {
   "cell_type": "markdown",
   "id": "documentary-dream",
   "metadata": {},
   "source": [
    "Найдем предсказания модели линейной регрессии для первоначальных признаков и для признаков, домноженных на обратную матрицу и сравним их. Для этого вопспользуемся формулой: $$a = Xw$$ где $a$ - вектор предсказаний модели, $X$ - матрица признаков, $w$ - вектор весов.\n",
    "\n",
    "Что бы найти вектор предсказаний, нужно вычислить вектор весов для каждого случая по формуле: $$w=(X^TX)^{-1}X^Ty$$ где $y$ - вектор значений целевого признака."
   ]
  },
  {
   "cell_type": "code",
   "execution_count": 16,
   "id": "computational-schedule",
   "metadata": {},
   "outputs": [
    {
     "name": "stdout",
     "output_type": "stream",
     "text": [
      "Вектор весов w: \n",
      " [-4.43854736e-02  2.33356252e-02 -1.17739062e-05 -4.55168115e-02]\n",
      "Вектор весов w_new: \n",
      " [-1.28645014 -1.3996196  -1.2780888  -1.37925535]\n"
     ]
    }
   ],
   "source": [
    "# Вектор весов для первоначальной матрицы признаков\n",
    "w = np.linalg.inv(features.T.dot(features)).dot(features.T).dot(target)\n",
    "# Вектор предсказания для матрицы признаков, домноженной на обратную матрицу\n",
    "w_new = np.linalg.inv(features_inv.T.dot(features_inv)).dot(features_inv.T).dot(target)\n",
    "print('Вектор весов w: \\n', w)\n",
    "print('Вектор весов w_new: \\n', w_new)"
   ]
  },
  {
   "cell_type": "code",
   "execution_count": 17,
   "id": "representative-stanford",
   "metadata": {},
   "outputs": [
    {
     "name": "stdout",
     "output_type": "stream",
     "text": [
      "[ 0.2828726   0.58051351  0.4294811  ... -0.02345654 -0.05255889\n",
      "  0.08547463]\n",
      "[ 0.28286721  0.58052547  0.42949023 ... -0.02345306 -0.05257808\n",
      "  0.08546524]\n"
     ]
    }
   ],
   "source": [
    "# Вектор предсказаний модели через вектор весов для первоначальной матрицы признаков\n",
    "a = features.dot(w)\n",
    "# Вектор предсказаний модели через вектор весов для преобразованной матрицы признаков\n",
    "a_new = features_inv.dot(w_new)\n",
    "print(a.values)\n",
    "print(a_new.values)"
   ]
  },
  {
   "cell_type": "markdown",
   "id": "realistic-viewer",
   "metadata": {},
   "source": [
    "Новый вектор предсказаний равен старому! Следовательно: $$Xw = X'w'$$ где $X$ и $X'$ - это признаки features и features_inv соответственно, $w$ и $w'$ - векторы весов w и w_new соответственно.\n",
    "Подставляя в эту формулу обратимую матрицу (inverse_matrix), обозначим ее $M$, получим: $$Xw = XMw'$$\n",
    "Домножим левую и правую часть на $X^{-1}$: $$X^{-1}Xw = X^{-1}XMw'$$\n",
    "Получим: $$w = Mw'$$\n",
    "Домножим левую и правую часть на $M^{-1}$: $$M^{-1}w = M^{-1}Mw'$$\n",
    "Следовательно: $$w' = M^{-1}w$$"
   ]
  },
  {
   "cell_type": "markdown",
   "id": "individual-interface",
   "metadata": {},
   "source": [
    "Проверим правильность вывода."
   ]
  },
  {
   "cell_type": "code",
   "execution_count": 18,
   "id": "furnished-bidding",
   "metadata": {},
   "outputs": [
    {
     "data": {
      "text/plain": [
       "array([-1.286005  , -1.39913006, -1.27762778, -1.37879585])"
      ]
     },
     "execution_count": 18,
     "metadata": {},
     "output_type": "execute_result"
    }
   ],
   "source": [
    "# matrix - это обратная матрица матрице inverse_matrix, которую мы использовали ранее для нахождения\n",
    "# новой матрицы признаков\n",
    "# новый вектор весов через первоначальный\n",
    "matrix @ w"
   ]
  },
  {
   "cell_type": "code",
   "execution_count": 19,
   "id": "healthy-brazil",
   "metadata": {},
   "outputs": [
    {
     "data": {
      "text/plain": [
       "array([-1.28645014, -1.3996196 , -1.2780888 , -1.37925535])"
      ]
     },
     "execution_count": 19,
     "metadata": {},
     "output_type": "execute_result"
    }
   ],
   "source": [
    "# Новый векторв весов, посчитанный ранее\n",
    "w_new"
   ]
  },
  {
   "cell_type": "markdown",
   "id": "identical-morrison",
   "metadata": {},
   "source": [
    "Векторы равны, следовательно вектор весов линейной регрессии в исходной задаче и в преобразованной связаны соотношением $w' = M^{-1}w$"
   ]
  },
  {
   "cell_type": "markdown",
   "id": "acting-mounting",
   "metadata": {},
   "source": [
    "## Алгоритм преобразования данных"
   ]
  },
  {
   "cell_type": "markdown",
   "id": "aggressive-witness",
   "metadata": {},
   "source": [
    "Для преобразования данных предлагаю:\n",
    "- Извлечь и исходных данных матрицу признаков и вектор целевых признаков;\n",
    "- Сгенерировать обратимую матрицу размерностью n*n (n - количество столбцов в признаках);\n",
    "- Преобразовать данные путем перемножения матрицы признаков на обратимую матрицу."
   ]
  },
  {
   "cell_type": "markdown",
   "id": "unknown-judgment",
   "metadata": {},
   "source": [
    "Для обратного преобразования (декодировки) нужно перемножить преобразованные данные на обратную матрицу сгенерированной раннее обратимой матрицы."
   ]
  },
  {
   "cell_type": "code",
   "execution_count": 20,
   "id": "warming-remains",
   "metadata": {},
   "outputs": [],
   "source": [
    "# Создадим функцию для преобразования данных\n",
    "def transform_data(data, target_name):\n",
    "    # выделяем признаки из данных\n",
    "    features = data.drop(target_name, axis=1).values\n",
    "    # выделяем целевой признак\n",
    "    target = data[target_name]\n",
    "    # генерируем ключ преобразования\n",
    "    np.random.seed(12345)\n",
    "    m = np.random.normal(0, 20, size=(features.shape[1], features.shape[1]))\n",
    "    try:\n",
    "        inverse_m = np.linalg.inv(m)\n",
    "    except:\n",
    "        print('Матрица m необратима')\n",
    "    # преобразуем данные\n",
    "    features_new = features @ m\n",
    "    # возвращаем преобразованные данные\n",
    "    return features_new, target, m"
   ]
  },
  {
   "cell_type": "code",
   "execution_count": 27,
   "id": "interior-lender",
   "metadata": {},
   "outputs": [],
   "source": [
    "# Создадим функцию для обратного преобразования\n",
    "def retransform_data(transform_features, m):\n",
    "    return transform_features @ np.linalg.inv(m)"
   ]
  },
  {
   "cell_type": "markdown",
   "id": "danish-aerospace",
   "metadata": {},
   "source": [
    "## Проверка алгоритма"
   ]
  },
  {
   "cell_type": "code",
   "execution_count": 28,
   "id": "stretch-priority",
   "metadata": {},
   "outputs": [],
   "source": [
    "# Получим преобразованные данные\n",
    "features_new, target, m = transform_data(df, 'Страховые выплаты')"
   ]
  },
  {
   "cell_type": "code",
   "execution_count": 29,
   "id": "musical-cotton",
   "metadata": {},
   "outputs": [
    {
     "data": {
      "text/plain": [
       "array([[ 1.00000000e+00,  4.10000000e+01,  4.96000000e+04,\n",
       "         1.00000000e+00],\n",
       "       [-3.63797881e-12,  4.60000000e+01,  3.80000000e+04,\n",
       "         1.00000000e+00],\n",
       "       [ 3.63797881e-12,  2.90000000e+01,  2.10000000e+04,\n",
       "         3.63797881e-12],\n",
       "       ...,\n",
       "       [ 3.63797881e-12,  2.00000000e+01,  3.39000000e+04,\n",
       "         2.00000000e+00],\n",
       "       [ 1.00000000e+00,  2.20000000e+01,  3.27000000e+04,\n",
       "         3.00000000e+00],\n",
       "       [ 1.00000000e+00,  2.80000000e+01,  4.06000000e+04,\n",
       "         1.00000000e+00]])"
      ]
     },
     "execution_count": 29,
     "metadata": {},
     "output_type": "execute_result"
    }
   ],
   "source": [
    "# Проверим  функцию обратного преобразования\n",
    "retransform_data(features_new, m)"
   ]
  },
  {
   "cell_type": "code",
   "execution_count": null,
   "id": "important-credit",
   "metadata": {
    "scrolled": true
   },
   "outputs": [],
   "source": [
    "# Сравним с первоначальной матрицей признаков\n",
    "features.values"
   ]
  },
  {
   "cell_type": "markdown",
   "id": "norwegian-wrapping",
   "metadata": {},
   "source": [
    "Обратное преобразование работает корректно."
   ]
  },
  {
   "cell_type": "code",
   "execution_count": null,
   "id": "applied-taste",
   "metadata": {},
   "outputs": [],
   "source": [
    "# Проверим качество модели линейной регрессии на первоначальных признаках с помощью R2\n",
    "model=LinearRegression()\n",
    "model.fit(features, target)\n",
    "predictions=model.predict(features)\n",
    "print('R2 модели линейной регрессии на первоначальных признаках \\n', r2_score(target, predictions))"
   ]
  },
  {
   "cell_type": "code",
   "execution_count": null,
   "id": "fundamental-compiler",
   "metadata": {
    "scrolled": true
   },
   "outputs": [],
   "source": [
    "# Проверим качество модели линейной регрессии на преобразованных признаках с помощью R2\n",
    "model_transform=LinearRegression()\n",
    "model_transform.fit(features_new, target)\n",
    "predictions=model_transform.predict(features_new)\n",
    "print('R2 модели линейной регрессии на преобразованных признаках \\n', r2_score(target, predictions))"
   ]
  },
  {
   "cell_type": "markdown",
   "id": "divine-doubt",
   "metadata": {},
   "source": [
    "Видим, что R2 двух моделей равны, это говорит о том, что алгоритм корректно работает."
   ]
  },
  {
   "cell_type": "markdown",
   "id": "secure-funeral",
   "metadata": {},
   "source": [
    "## Выводы\n",
    "- В ходе работы мы изучили и подготовили данные\n",
    "- Нашли связь вектора весов модели линейной регрессии обученной на первоначальных и преобразованных признаках\n",
    "- Разработали алгоритм преобразования данных, который позволяет скрыть персональную информацию клиентов, не ухудщая при этом качество предсказаний модели\n",
    "- Создали функцию обратного преобразования данных."
   ]
  }
 ],
 "metadata": {
  "ExecuteTimeLog": [
   {
    "duration": 960,
    "start_time": "2021-07-19T17:39:34.297Z"
   },
   {
    "duration": 2,
    "start_time": "2021-07-19T17:39:35.259Z"
   },
   {
    "duration": 86,
    "start_time": "2021-07-19T17:39:35.264Z"
   },
   {
    "duration": -2908,
    "start_time": "2021-07-19T17:39:38.261Z"
   },
   {
    "duration": -2912,
    "start_time": "2021-07-19T17:39:38.265Z"
   },
   {
    "duration": -2914,
    "start_time": "2021-07-19T17:39:38.268Z"
   },
   {
    "duration": -2915,
    "start_time": "2021-07-19T17:39:38.270Z"
   },
   {
    "duration": -2916,
    "start_time": "2021-07-19T17:39:38.272Z"
   },
   {
    "duration": -2918,
    "start_time": "2021-07-19T17:39:38.275Z"
   },
   {
    "duration": -2919,
    "start_time": "2021-07-19T17:39:38.276Z"
   },
   {
    "duration": -2920,
    "start_time": "2021-07-19T17:39:38.278Z"
   },
   {
    "duration": -2921,
    "start_time": "2021-07-19T17:39:38.280Z"
   },
   {
    "duration": -2924,
    "start_time": "2021-07-19T17:39:38.284Z"
   },
   {
    "duration": -2926,
    "start_time": "2021-07-19T17:39:38.287Z"
   },
   {
    "duration": -2928,
    "start_time": "2021-07-19T17:39:38.289Z"
   },
   {
    "duration": -2929,
    "start_time": "2021-07-19T17:39:38.291Z"
   },
   {
    "duration": -2934,
    "start_time": "2021-07-19T17:39:38.297Z"
   },
   {
    "duration": -2953,
    "start_time": "2021-07-19T17:39:38.317Z"
   },
   {
    "duration": -2960,
    "start_time": "2021-07-19T17:39:38.325Z"
   },
   {
    "duration": -2964,
    "start_time": "2021-07-19T17:39:38.329Z"
   },
   {
    "duration": -2966,
    "start_time": "2021-07-19T17:39:38.332Z"
   },
   {
    "duration": -2968,
    "start_time": "2021-07-19T17:39:38.335Z"
   },
   {
    "duration": -2969,
    "start_time": "2021-07-19T17:39:38.337Z"
   },
   {
    "duration": -2970,
    "start_time": "2021-07-19T17:39:38.339Z"
   },
   {
    "duration": 2,
    "start_time": "2021-07-19T17:40:17.710Z"
   },
   {
    "duration": 21,
    "start_time": "2021-07-19T17:40:17.714Z"
   },
   {
    "duration": 2,
    "start_time": "2021-07-19T17:40:17.738Z"
   },
   {
    "duration": 10,
    "start_time": "2021-07-19T17:40:17.742Z"
   },
   {
    "duration": 8,
    "start_time": "2021-07-19T17:40:17.754Z"
   },
   {
    "duration": 13,
    "start_time": "2021-07-19T17:40:17.764Z"
   },
   {
    "duration": 14,
    "start_time": "2021-07-19T17:40:17.779Z"
   },
   {
    "duration": 199,
    "start_time": "2021-07-19T17:40:17.794Z"
   },
   {
    "duration": 5,
    "start_time": "2021-07-19T17:40:17.996Z"
   },
   {
    "duration": 38,
    "start_time": "2021-07-19T17:40:18.004Z"
   },
   {
    "duration": 102,
    "start_time": "2021-07-19T17:40:18.044Z"
   },
   {
    "duration": 99,
    "start_time": "2021-07-19T17:40:18.148Z"
   },
   {
    "duration": 186,
    "start_time": "2021-07-19T17:40:18.254Z"
   },
   {
    "duration": 8,
    "start_time": "2021-07-19T17:40:18.443Z"
   },
   {
    "duration": 92,
    "start_time": "2021-07-19T17:40:18.453Z"
   },
   {
    "duration": 95,
    "start_time": "2021-07-19T17:40:18.548Z"
   },
   {
    "duration": 5,
    "start_time": "2021-07-19T17:40:18.645Z"
   },
   {
    "duration": 5,
    "start_time": "2021-07-19T17:40:18.651Z"
   },
   {
    "duration": 6,
    "start_time": "2021-07-19T17:40:18.658Z"
   },
   {
    "duration": 705,
    "start_time": "2021-07-19T17:40:18.665Z"
   },
   {
    "duration": -2978,
    "start_time": "2021-07-19T17:40:22.350Z"
   },
   {
    "duration": -3002,
    "start_time": "2021-07-19T17:40:22.375Z"
   },
   {
    "duration": -3004,
    "start_time": "2021-07-19T17:40:22.379Z"
   }
  ],
  "kernelspec": {
   "display_name": "Python 3",
   "language": "python",
   "name": "python3"
  },
  "language_info": {
   "codemirror_mode": {
    "name": "ipython",
    "version": 3
   },
   "file_extension": ".py",
   "mimetype": "text/x-python",
   "name": "python",
   "nbconvert_exporter": "python",
   "pygments_lexer": "ipython3",
   "version": "3.7.10"
  },
  "toc": {
   "base_numbering": 1,
   "nav_menu": {},
   "number_sections": true,
   "sideBar": true,
   "skip_h1_title": true,
   "title_cell": "Содержание",
   "title_sidebar": "Contents",
   "toc_cell": true,
   "toc_position": {
    "height": "calc(100% - 180px)",
    "left": "10px",
    "top": "150px",
    "width": "288px"
   },
   "toc_section_display": true,
   "toc_window_display": false
  }
 },
 "nbformat": 4,
 "nbformat_minor": 5
}
