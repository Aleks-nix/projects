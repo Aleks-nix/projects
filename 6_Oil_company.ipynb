{
 "cells": [
  {
   "cell_type": "markdown",
   "id": "following-lebanon",
   "metadata": {
    "toc": true
   },
   "source": [
    "<h1>Содержание<span class=\"tocSkip\"></span></h1>\n",
    "<div class=\"toc\"><ul class=\"toc-item\"><li><span><a href=\"#Изучение-и-подготовка-данных\" data-toc-modified-id=\"Изучение-и-подготовка-данных-1\"><span class=\"toc-item-num\">1&nbsp;&nbsp;</span>Изучение и подготовка данных</a></span></li><li><span><a href=\"#Обучение-и-проверка-модели-для-каждого-региона\" data-toc-modified-id=\"Обучение-и-проверка-модели-для-каждого-региона-2\"><span class=\"toc-item-num\">2&nbsp;&nbsp;</span>Обучение и проверка модели для каждого региона</a></span></li><li><span><a href=\"#Подготовка-к-расчету-прибыли\" data-toc-modified-id=\"Подготовка-к-расчету-прибыли-3\"><span class=\"toc-item-num\">3&nbsp;&nbsp;</span>Подготовка к расчету прибыли</a></span></li><li><span><a href=\"#Расчёт-прибыли-по-выбранным-скважинам-и-предсказаниям-модели:\" data-toc-modified-id=\"Расчёт-прибыли-по-выбранным-скважинам-и-предсказаниям-модели:-4\"><span class=\"toc-item-num\">4&nbsp;&nbsp;</span>Расчёт прибыли по выбранным скважинам и предсказаниям модели:</a></span></li><li><span><a href=\"#Расчет-рисков-и-прибыли-для-каждого-региона\" data-toc-modified-id=\"Расчет-рисков-и-прибыли-для-каждого-региона-5\"><span class=\"toc-item-num\">5&nbsp;&nbsp;</span>Расчет рисков и прибыли для каждого региона</a></span></li><li><span><a href=\"#Выводы\" data-toc-modified-id=\"Выводы-6\"><span class=\"toc-item-num\">6&nbsp;&nbsp;</span>Выводы</a></span></li></ul></div>"
   ]
  },
  {
   "cell_type": "markdown",
   "id": "exempt-iceland",
   "metadata": {},
   "source": [
    "# Описание проекта\n",
    "Допустим, вы работаете в нефтедобывающей компании. Нужно решить, где бурить новую скважину.\n",
    "\n",
    "Шаги для выбора локации обычно такие:\n",
    "- В избранном регионе собирают характеристики для скважин: качество нефти и объём её запасов;\n",
    "- Строят модель для предсказания объёма запасов в новых скважинах;\n",
    "- Выбирают скважины с самыми высокими оценками значений;\n",
    "- Определяют регион с максимальной суммарной прибылью отобранных скважин.\n",
    "\n",
    "Вам предоставлены пробы нефти в трёх регионах. Характеристики для каждой скважины в регионе уже известны. Постройте модель для определения региона, где добыча принесёт наибольшую прибыль. Проанализируйте возможную прибыль и риски техникой Bootstrap."
   ]
  },
  {
   "cell_type": "markdown",
   "id": "behind-concern",
   "metadata": {},
   "source": [
    "# Инструкция по выполнению проекта:\n",
    "- Загрузите и подготовьте данные. Поясните порядок действий.\n",
    "- Обучите и проверьте модель для каждого региона:\n",
    "    - Разбейте данные на обучающую и валидационную выборки в соотношении 75:25.\n",
    "    - Обучите модель и сделайте предсказания на валидационной выборке.\n",
    "    - Сохраните предсказания и правильные ответы на валидационной выборке.\n",
    "    - Напечатайте на экране средний запас предсказанного сырья и RMSE модели.\n",
    "    - Проанализируйте результаты.\n",
    "- Подготовьтесь к расчёту прибыли:\n",
    "    - Все ключевые значения для расчётов сохраните в отдельных переменных.\n",
    "    - Рассчитайте достаточный объём сырья для безубыточной разработки новой скважины. Сравните полученный объём сырья со средним запасом в каждом регионе.\n",
    "    - Напишите выводы по этапу подготовки расчёта прибыли.\n",
    "- Напишите функцию для расчёта прибыли по выбранным скважинам и предсказаниям модели:\n",
    "    - Выберите скважины с максимальными значениями предсказаний.\n",
    "    - Просуммируйте целевое значение объёма сырья, соответствующее этим предсказаниям.\n",
    "    - Рассчитайте прибыль для полученного объёма сырья.\n",
    "- Посчитайте риски и прибыль для каждого региона:\n",
    "    - Примените технику Bootstrap с 1000 выборок, чтобы найти распределение прибыли.\n",
    "    - Найдите среднюю прибыль, 95%-й доверительный интервал и риск убытков. Убыток — это отрицательная прибыль.\n",
    "    - Напишите выводы: предложите регион для разработки скважин и обоснуйте выбор."
   ]
  },
  {
   "cell_type": "markdown",
   "id": "smaller-click",
   "metadata": {},
   "source": [
    "# Условия задачи\n",
    "- Для обучения модели подходит только линейная регрессия (остальные — недостаточно предсказуемые).\n",
    "- При разведке региона исследуют 500 точек, из которых с помощью машинного обучения выбирают 200 лучших для разработки.\n",
    "- Бюджет на разработку скважин в регионе — 10 млрд рублей.\n",
    "- При нынешних ценах один баррель сырья приносит 450 рублей дохода. Доход с каждой единицы продукта составляет 450 тыс. рублей, поскольку объём указан в тысячах баррелей.\n",
    "- После оценки рисков нужно оставить лишь те регионы, в которых вероятность убытков меньше 2.5%. Среди них выбирают регион с наибольшей средней прибылью.\n",
    "\n",
    "Данные синтетические: детали контрактов и характеристики месторождений не разглашаются."
   ]
  },
  {
   "cell_type": "markdown",
   "id": "young-backing",
   "metadata": {},
   "source": [
    "## Изучение и подготовка данных"
   ]
  },
  {
   "cell_type": "code",
   "execution_count": 1,
   "id": "relative-carter",
   "metadata": {},
   "outputs": [],
   "source": [
    "import pandas as pd\n",
    "import numpy as np\n",
    "\n",
    "from sklearn.model_selection import train_test_split\n",
    "from sklearn.linear_model import LinearRegression\n",
    "from sklearn.metrics import mean_squared_error\n",
    "\n",
    "from sklearn.preprocessing import OrdinalEncoder"
   ]
  },
  {
   "cell_type": "code",
   "execution_count": 4,
   "id": "planned-print",
   "metadata": {
    "scrolled": false
   },
   "outputs": [
    {
     "data": {
      "text/html": [
       "<div>\n",
       "<style scoped>\n",
       "    .dataframe tbody tr th:only-of-type {\n",
       "        vertical-align: middle;\n",
       "    }\n",
       "\n",
       "    .dataframe tbody tr th {\n",
       "        vertical-align: top;\n",
       "    }\n",
       "\n",
       "    .dataframe thead th {\n",
       "        text-align: right;\n",
       "    }\n",
       "</style>\n",
       "<table border=\"1\" class=\"dataframe\">\n",
       "  <thead>\n",
       "    <tr style=\"text-align: right;\">\n",
       "      <th></th>\n",
       "      <th>id</th>\n",
       "      <th>f0</th>\n",
       "      <th>f1</th>\n",
       "      <th>f2</th>\n",
       "      <th>product</th>\n",
       "    </tr>\n",
       "  </thead>\n",
       "  <tbody>\n",
       "    <tr>\n",
       "      <td>0</td>\n",
       "      <td>txEyH</td>\n",
       "      <td>0.705745</td>\n",
       "      <td>-0.497823</td>\n",
       "      <td>1.221170</td>\n",
       "      <td>105.280062</td>\n",
       "    </tr>\n",
       "    <tr>\n",
       "      <td>1</td>\n",
       "      <td>2acmU</td>\n",
       "      <td>1.334711</td>\n",
       "      <td>-0.340164</td>\n",
       "      <td>4.365080</td>\n",
       "      <td>73.037750</td>\n",
       "    </tr>\n",
       "    <tr>\n",
       "      <td>2</td>\n",
       "      <td>409Wp</td>\n",
       "      <td>1.022732</td>\n",
       "      <td>0.151990</td>\n",
       "      <td>1.419926</td>\n",
       "      <td>85.265647</td>\n",
       "    </tr>\n",
       "    <tr>\n",
       "      <td>3</td>\n",
       "      <td>iJLyR</td>\n",
       "      <td>-0.032172</td>\n",
       "      <td>0.139033</td>\n",
       "      <td>2.978566</td>\n",
       "      <td>168.620776</td>\n",
       "    </tr>\n",
       "    <tr>\n",
       "      <td>4</td>\n",
       "      <td>Xdl7t</td>\n",
       "      <td>1.988431</td>\n",
       "      <td>0.155413</td>\n",
       "      <td>4.751769</td>\n",
       "      <td>154.036647</td>\n",
       "    </tr>\n",
       "  </tbody>\n",
       "</table>\n",
       "</div>"
      ],
      "text/plain": [
       "      id        f0        f1        f2     product\n",
       "0  txEyH  0.705745 -0.497823  1.221170  105.280062\n",
       "1  2acmU  1.334711 -0.340164  4.365080   73.037750\n",
       "2  409Wp  1.022732  0.151990  1.419926   85.265647\n",
       "3  iJLyR -0.032172  0.139033  2.978566  168.620776\n",
       "4  Xdl7t  1.988431  0.155413  4.751769  154.036647"
      ]
     },
     "execution_count": 4,
     "metadata": {},
     "output_type": "execute_result"
    }
   ],
   "source": [
    "# Код для считывания данных\n",
    "geo_data_0 = pd.read_csv('geo_data_0.csv')\n",
    "geo_data_0.head()"
   ]
  },
  {
   "cell_type": "code",
   "execution_count": 5,
   "id": "aging-cooler",
   "metadata": {},
   "outputs": [
    {
     "data": {
      "text/html": [
       "<div>\n",
       "<style scoped>\n",
       "    .dataframe tbody tr th:only-of-type {\n",
       "        vertical-align: middle;\n",
       "    }\n",
       "\n",
       "    .dataframe tbody tr th {\n",
       "        vertical-align: top;\n",
       "    }\n",
       "\n",
       "    .dataframe thead th {\n",
       "        text-align: right;\n",
       "    }\n",
       "</style>\n",
       "<table border=\"1\" class=\"dataframe\">\n",
       "  <thead>\n",
       "    <tr style=\"text-align: right;\">\n",
       "      <th></th>\n",
       "      <th>id</th>\n",
       "      <th>f0</th>\n",
       "      <th>f1</th>\n",
       "      <th>f2</th>\n",
       "      <th>product</th>\n",
       "    </tr>\n",
       "  </thead>\n",
       "  <tbody>\n",
       "    <tr>\n",
       "      <td>0</td>\n",
       "      <td>kBEdx</td>\n",
       "      <td>-15.001348</td>\n",
       "      <td>-8.276000</td>\n",
       "      <td>-0.005876</td>\n",
       "      <td>3.179103</td>\n",
       "    </tr>\n",
       "    <tr>\n",
       "      <td>1</td>\n",
       "      <td>62mP7</td>\n",
       "      <td>14.272088</td>\n",
       "      <td>-3.475083</td>\n",
       "      <td>0.999183</td>\n",
       "      <td>26.953261</td>\n",
       "    </tr>\n",
       "    <tr>\n",
       "      <td>2</td>\n",
       "      <td>vyE1P</td>\n",
       "      <td>6.263187</td>\n",
       "      <td>-5.948386</td>\n",
       "      <td>5.001160</td>\n",
       "      <td>134.766305</td>\n",
       "    </tr>\n",
       "    <tr>\n",
       "      <td>3</td>\n",
       "      <td>KcrkZ</td>\n",
       "      <td>-13.081196</td>\n",
       "      <td>-11.506057</td>\n",
       "      <td>4.999415</td>\n",
       "      <td>137.945408</td>\n",
       "    </tr>\n",
       "    <tr>\n",
       "      <td>4</td>\n",
       "      <td>AHL4O</td>\n",
       "      <td>12.702195</td>\n",
       "      <td>-8.147433</td>\n",
       "      <td>5.004363</td>\n",
       "      <td>134.766305</td>\n",
       "    </tr>\n",
       "  </tbody>\n",
       "</table>\n",
       "</div>"
      ],
      "text/plain": [
       "      id         f0         f1        f2     product\n",
       "0  kBEdx -15.001348  -8.276000 -0.005876    3.179103\n",
       "1  62mP7  14.272088  -3.475083  0.999183   26.953261\n",
       "2  vyE1P   6.263187  -5.948386  5.001160  134.766305\n",
       "3  KcrkZ -13.081196 -11.506057  4.999415  137.945408\n",
       "4  AHL4O  12.702195  -8.147433  5.004363  134.766305"
      ]
     },
     "execution_count": 5,
     "metadata": {},
     "output_type": "execute_result"
    }
   ],
   "source": [
    "# Код для считывания данных\n",
    "geo_data_1 = pd.read_csv('geo_data_1.csv')\n",
    "geo_data_1.head()"
   ]
  },
  {
   "cell_type": "code",
   "execution_count": 6,
   "id": "universal-arctic",
   "metadata": {
    "scrolled": true
   },
   "outputs": [
    {
     "data": {
      "text/html": [
       "<div>\n",
       "<style scoped>\n",
       "    .dataframe tbody tr th:only-of-type {\n",
       "        vertical-align: middle;\n",
       "    }\n",
       "\n",
       "    .dataframe tbody tr th {\n",
       "        vertical-align: top;\n",
       "    }\n",
       "\n",
       "    .dataframe thead th {\n",
       "        text-align: right;\n",
       "    }\n",
       "</style>\n",
       "<table border=\"1\" class=\"dataframe\">\n",
       "  <thead>\n",
       "    <tr style=\"text-align: right;\">\n",
       "      <th></th>\n",
       "      <th>id</th>\n",
       "      <th>f0</th>\n",
       "      <th>f1</th>\n",
       "      <th>f2</th>\n",
       "      <th>product</th>\n",
       "    </tr>\n",
       "  </thead>\n",
       "  <tbody>\n",
       "    <tr>\n",
       "      <td>0</td>\n",
       "      <td>fwXo0</td>\n",
       "      <td>-1.146987</td>\n",
       "      <td>0.963328</td>\n",
       "      <td>-0.828965</td>\n",
       "      <td>27.758673</td>\n",
       "    </tr>\n",
       "    <tr>\n",
       "      <td>1</td>\n",
       "      <td>WJtFt</td>\n",
       "      <td>0.262778</td>\n",
       "      <td>0.269839</td>\n",
       "      <td>-2.530187</td>\n",
       "      <td>56.069697</td>\n",
       "    </tr>\n",
       "    <tr>\n",
       "      <td>2</td>\n",
       "      <td>ovLUW</td>\n",
       "      <td>0.194587</td>\n",
       "      <td>0.289035</td>\n",
       "      <td>-5.586433</td>\n",
       "      <td>62.871910</td>\n",
       "    </tr>\n",
       "    <tr>\n",
       "      <td>3</td>\n",
       "      <td>q6cA6</td>\n",
       "      <td>2.236060</td>\n",
       "      <td>-0.553760</td>\n",
       "      <td>0.930038</td>\n",
       "      <td>114.572842</td>\n",
       "    </tr>\n",
       "    <tr>\n",
       "      <td>4</td>\n",
       "      <td>WPMUX</td>\n",
       "      <td>-0.515993</td>\n",
       "      <td>1.716266</td>\n",
       "      <td>5.899011</td>\n",
       "      <td>149.600746</td>\n",
       "    </tr>\n",
       "  </tbody>\n",
       "</table>\n",
       "</div>"
      ],
      "text/plain": [
       "      id        f0        f1        f2     product\n",
       "0  fwXo0 -1.146987  0.963328 -0.828965   27.758673\n",
       "1  WJtFt  0.262778  0.269839 -2.530187   56.069697\n",
       "2  ovLUW  0.194587  0.289035 -5.586433   62.871910\n",
       "3  q6cA6  2.236060 -0.553760  0.930038  114.572842\n",
       "4  WPMUX -0.515993  1.716266  5.899011  149.600746"
      ]
     },
     "execution_count": 6,
     "metadata": {},
     "output_type": "execute_result"
    }
   ],
   "source": [
    "# Код для считывания данных\n",
    "geo_data_2 = pd.read_csv('geo_data_2.csv')\n",
    "geo_data_2.head()"
   ]
  },
  {
   "cell_type": "markdown",
   "id": "amber-morgan",
   "metadata": {},
   "source": [
    "Найдем пропуски в данных."
   ]
  },
  {
   "cell_type": "code",
   "execution_count": 7,
   "id": "forty-webster",
   "metadata": {},
   "outputs": [
    {
     "name": "stdout",
     "output_type": "stream",
     "text": [
      "<class 'pandas.core.frame.DataFrame'>\n",
      "RangeIndex: 100000 entries, 0 to 99999\n",
      "Data columns (total 5 columns):\n",
      "id         100000 non-null object\n",
      "f0         100000 non-null float64\n",
      "f1         100000 non-null float64\n",
      "f2         100000 non-null float64\n",
      "product    100000 non-null float64\n",
      "dtypes: float64(4), object(1)\n",
      "memory usage: 3.8+ MB\n"
     ]
    }
   ],
   "source": [
    "geo_data_0.info()"
   ]
  },
  {
   "cell_type": "code",
   "execution_count": 8,
   "id": "chemical-danger",
   "metadata": {},
   "outputs": [
    {
     "name": "stdout",
     "output_type": "stream",
     "text": [
      "<class 'pandas.core.frame.DataFrame'>\n",
      "RangeIndex: 100000 entries, 0 to 99999\n",
      "Data columns (total 5 columns):\n",
      "id         100000 non-null object\n",
      "f0         100000 non-null float64\n",
      "f1         100000 non-null float64\n",
      "f2         100000 non-null float64\n",
      "product    100000 non-null float64\n",
      "dtypes: float64(4), object(1)\n",
      "memory usage: 3.8+ MB\n"
     ]
    }
   ],
   "source": [
    "geo_data_1.info()"
   ]
  },
  {
   "cell_type": "code",
   "execution_count": 9,
   "id": "distinct-heater",
   "metadata": {},
   "outputs": [
    {
     "name": "stdout",
     "output_type": "stream",
     "text": [
      "<class 'pandas.core.frame.DataFrame'>\n",
      "RangeIndex: 100000 entries, 0 to 99999\n",
      "Data columns (total 5 columns):\n",
      "id         100000 non-null object\n",
      "f0         100000 non-null float64\n",
      "f1         100000 non-null float64\n",
      "f2         100000 non-null float64\n",
      "product    100000 non-null float64\n",
      "dtypes: float64(4), object(1)\n",
      "memory usage: 3.8+ MB\n"
     ]
    }
   ],
   "source": [
    "geo_data_2.info()"
   ]
  },
  {
   "cell_type": "markdown",
   "id": "economic-ozone",
   "metadata": {},
   "source": [
    "Пропусков в таблице нет=)"
   ]
  },
  {
   "cell_type": "markdown",
   "id": "vertical-yacht",
   "metadata": {},
   "source": [
    "## Обучение и проверка модели для каждого региона"
   ]
  },
  {
   "cell_type": "markdown",
   "id": "cleared-ordering",
   "metadata": {},
   "source": [
    "При создании модели у меня выскакивала ошибка из-за того, что в 'id' были текстовые идентификаторы. Я не смог выполнить порядковое кодирование только в первом столбце(( Но так как нам не нужно будет в дальнейшем обращаться к уникальным идентификаторам, то просто удалим этот столбец."
   ]
  },
  {
   "cell_type": "code",
   "execution_count": 10,
   "id": "racial-suite",
   "metadata": {},
   "outputs": [],
   "source": [
    "def predict_product(data, name):\n",
    "    # Удалим столбец с уникальным идентификатором скважиныы\n",
    "    data.drop('id', axis=1, inplace=True)\n",
    "    # Выделим переменные признаки и признак, который нужно предсказать для каждой таблицы\n",
    "    features = data.drop('product', axis=1)\n",
    "    target = data['product']\n",
    "    # Отделим валидационную выборку (25%) от первоначальных данных\n",
    "    features_train, features_valid, target_train, target_valid = train_test_split(\n",
    "        features, target, test_size=0.25, random_state=12345)\n",
    "    model = LinearRegression()\n",
    "    model.fit(features_train, target_train)\n",
    "    predictions_valid = model.predict(features_valid)\n",
    "    mean = predictions_valid.mean()\n",
    "    rmse = (mean_squared_error(target_valid, predictions_valid))**0.5\n",
    "    print('Средний запас сырья в', name, '=', round(mean, 2))\n",
    "    print('RMSE модели в', name, '=', round(rmse, 2))\n",
    "    return predictions_valid, target_valid"
   ]
  },
  {
   "cell_type": "code",
   "execution_count": 11,
   "id": "stuck-symposium",
   "metadata": {},
   "outputs": [
    {
     "name": "stdout",
     "output_type": "stream",
     "text": [
      "Средний запас сырья в geo_0 = 92.59\n",
      "RMSE модели в geo_0 = 37.58\n"
     ]
    }
   ],
   "source": [
    "# Сохраним ответы и предсказания модели в переменные predictions_valid_0 и target_valid_0\n",
    "predictions_valid_0, target_valid_0 = predict_product(geo_data_0, 'geo_0')"
   ]
  },
  {
   "cell_type": "code",
   "execution_count": 12,
   "id": "quiet-novel",
   "metadata": {},
   "outputs": [
    {
     "name": "stdout",
     "output_type": "stream",
     "text": [
      "Средний запас сырья в geo_1 = 68.73\n",
      "RMSE модели в geo_1 = 0.89\n"
     ]
    }
   ],
   "source": [
    "# Сохраним ответы и предсказания модели в переменные predictions_valid_1 и target_valid_1\n",
    "predictions_valid_1, target_valid_1 = predict_product(geo_data_1, 'geo_1')"
   ]
  },
  {
   "cell_type": "code",
   "execution_count": 13,
   "id": "governing-ideal",
   "metadata": {},
   "outputs": [
    {
     "name": "stdout",
     "output_type": "stream",
     "text": [
      "Средний запас сырья в geo_2 = 94.97\n",
      "RMSE модели в geo_2 = 40.03\n"
     ]
    }
   ],
   "source": [
    "# Сохраним ответы и предсказания модели в переменные predictions_valid_2 и target_valid_2\n",
    "predictions_valid_2, target_valid_2 = predict_product(geo_data_2, 'geo_2')"
   ]
  },
  {
   "cell_type": "markdown",
   "id": "after-advertiser",
   "metadata": {},
   "source": [
    "Видим, что средний запас сырья в geo_1 заметно ниже двух остальных, однако его RMSE намного ниже, а значит разброс запасов скважин в этом регионе меньше и выбрать 200 лучших месторождений будет сложнее."
   ]
  },
  {
   "cell_type": "markdown",
   "id": "medium-colonial",
   "metadata": {},
   "source": [
    "## Подготовка к расчету прибыли"
   ]
  },
  {
   "cell_type": "markdown",
   "id": "opponent-provider",
   "metadata": {},
   "source": [
    "Найдем достаточный объём сырья для безубыточной разработки новой скважины. Для этого разделим бюджен для одного региона на 200 скважин и на стоимость одной единицы продукта.\n",
    "$$ Дост. объем. сырья = \\frac{10 млрд}{(200 * 450 т.р.)} $$"
   ]
  },
  {
   "cell_type": "code",
   "execution_count": 14,
   "id": "perfect-passenger",
   "metadata": {},
   "outputs": [
    {
     "name": "stdout",
     "output_type": "stream",
     "text": [
      "Достаточный объем сырья = 111.11\n"
     ]
    }
   ],
   "source": [
    "# Найдем достаточный объем сырья\n",
    "budget = 10000000000\n",
    "count_wells = 200\n",
    "profit_1ed = 450000\n",
    "print('Достаточный объем сырья =', round(budget/(count_wells*profit_1ed), 2))"
   ]
  },
  {
   "cell_type": "markdown",
   "id": "international-tiger",
   "metadata": {},
   "source": [
    "Для безубыточной разработки новой скважины, средний объем сырья по 200 скважинам должен быть не меньше 111.11."
   ]
  },
  {
   "cell_type": "markdown",
   "id": "mexican-spider",
   "metadata": {},
   "source": [
    "## Расчёт прибыли по выбранным скважинам и предсказаниям модели:"
   ]
  },
  {
   "cell_type": "code",
   "execution_count": 15,
   "id": "chinese-assets",
   "metadata": {},
   "outputs": [],
   "source": [
    "def profit(target_valid, predictions_valid, count):\n",
    "    # Присвоим предсказаниям индексы целевого признака\n",
    "    predictions = pd.Series(predictions_valid, index=target_valid.index)\n",
    "    # Отростируем в порядке убывания предсказания\n",
    "    probs_sorted = predictions.sort_values(ascending=False)\n",
    "    # Выберем определенное количество значений целевого признака, отсортированных по убыванию предсказаний\n",
    "    selected = target_valid[probs_sorted.index].head(count)\n",
    "    return profit_1ed * selected.sum() - budget"
   ]
  },
  {
   "cell_type": "code",
   "execution_count": 16,
   "id": "sound-improvement",
   "metadata": {},
   "outputs": [
    {
     "name": "stdout",
     "output_type": "stream",
     "text": [
      "Прибыль в регионе geo_0 = 3.32 млрд\n"
     ]
    }
   ],
   "source": [
    "# Подсчет прибыли в регионе geo_0\n",
    "print('Прибыль в регионе geo_0 =',round(profit(target_valid_0, predictions_valid_0, 200)/1000000000, 2), 'млрд')"
   ]
  },
  {
   "cell_type": "code",
   "execution_count": 17,
   "id": "alternate-upset",
   "metadata": {},
   "outputs": [
    {
     "name": "stdout",
     "output_type": "stream",
     "text": [
      "Прибыль в регионе geo_1 = 2.42 млрд\n"
     ]
    }
   ],
   "source": [
    "# Подсчет прибыли в регионе geo_1\n",
    "print('Прибыль в регионе geo_1 =',round(profit(target_valid_1, predictions_valid_1, 200)/1000000000, 2), 'млрд')"
   ]
  },
  {
   "cell_type": "code",
   "execution_count": 18,
   "id": "higher-teaching",
   "metadata": {},
   "outputs": [
    {
     "name": "stdout",
     "output_type": "stream",
     "text": [
      "Прибыль в регионе geo_2 = 2.71 млрд\n"
     ]
    }
   ],
   "source": [
    "# Подсчет прибыли в регионе geo_2\n",
    "print('Прибыль в регионе geo_2 =',round(profit(target_valid_2, predictions_valid_2, 200)/1000000000, 2), 'млрд')"
   ]
  },
  {
   "cell_type": "markdown",
   "id": "athletic-headset",
   "metadata": {},
   "source": [
    "## Расчет рисков и прибыли для каждого региона"
   ]
  },
  {
   "cell_type": "code",
   "execution_count": 19,
   "id": "western-villa",
   "metadata": {},
   "outputs": [],
   "source": [
    "million = 1000000\n",
    "def predict_product(target_valid, predictions_valid, name):\n",
    "    state = np.random.RandomState(12345)\n",
    "    values = []\n",
    "    for i in range(1000):\n",
    "        target_subsample = target_valid.sample(500, replace=True, random_state=state)\n",
    "        probabilities = pd.Series(predictions_valid, index=target_valid.index)\n",
    "        probs_subsample = probabilities[target_subsample.index]\n",
    "        values.append(profit(target_subsample, probs_subsample, 200))\n",
    "    values = pd.Series(values)\n",
    "    mean = values.mean()/million\n",
    "    lower = values.quantile(0.025)/million\n",
    "    upper = values.quantile(0.975)/million\n",
    "    print('Средняя прибыль для региона', name, '=', mean, 'млн')\n",
    "    print('95%-й доверительный интервал для региона', name, '=', 'от', round(lower, 2), 'млн',\n",
    "          'до', round(upper, 2), 'млн')\n",
    "    print('Риск убытков =', values[values < 0].count()/values.count())"
   ]
  },
  {
   "cell_type": "code",
   "execution_count": 26,
   "id": "proprietary-alloy",
   "metadata": {
    "scrolled": false
   },
   "outputs": [
    {
     "name": "stdout",
     "output_type": "stream",
     "text": [
      "Средняя прибыль для региона geo_0 = 425.93852691059243 млн\n",
      "95%-й доверительный интервал для региона geo_0 = от -102.09 млн до 947.98 млн\n",
      "Риск убытков = 0.06\n",
      "\n",
      "Средняя прибыль для региона geo_1 = 515.22277344329 млн\n",
      "95%-й доверительный интервал для региона geo_1 = от 68.87 млн до 931.55 млн\n",
      "Риск убытков = 0.01\n",
      "\n",
      "Средняя прибыль для региона geo_2 = 435.0083627827556 млн\n",
      "95%-й доверительный интервал для региона geo_2 = от -128.88 млн до 969.71 млн\n",
      "Риск убытков = 0.064\n",
      "\n"
     ]
    }
   ],
   "source": [
    "geo = ['geo_0', 'geo_1', 'geo_2']\n",
    "target = [target_valid_0,  target_valid_1, target_valid_2]\n",
    "predictions = [predictions_valid_0, predictions_valid_1, predictions_valid_2]\n",
    "for geo, target, predictions in zip(geo, target, predictions):\n",
    "    predict_product(target, predictions, geo)\n",
    "    print()"
   ]
  },
  {
   "cell_type": "markdown",
   "id": "small-import",
   "metadata": {},
   "source": [
    "Видим, что регион 'geo_1' имеет наибольшую среднюю прибыль, а так же риск убытков меньше, чем в двух других регионах. Рукомендую разрабатывать скважины в регионе 'geo_1'!"
   ]
  },
  {
   "cell_type": "markdown",
   "id": "oriental-separate",
   "metadata": {},
   "source": [
    "## Выводы\n",
    "- В ходе работы мы изучили данные геологоразведки трёх регионов\n",
    "- Нашли средний запас предсказанного сырья и RMSE модели для каждого региона\n",
    "- Нашли достаточный объём сырья для безубыточной разработки новой скважины и он равен 111.11 тыс. баррелей на скважину\n",
    "- Посчитали прибыль по выбранным скважинам и предсказаниям модели в каждом регионе\n",
    "- Провели расчет рисков и прибыли для каждого региона. По результатам расчета рекомендованный регион для разработки скважин является регион 'geo_1'."
   ]
  }
 ],
 "metadata": {
  "kernelspec": {
   "display_name": "Python 3",
   "language": "python",
   "name": "python3"
  },
  "language_info": {
   "codemirror_mode": {
    "name": "ipython",
    "version": 3
   },
   "file_extension": ".py",
   "mimetype": "text/x-python",
   "name": "python",
   "nbconvert_exporter": "python",
   "pygments_lexer": "ipython3",
   "version": "3.7.10"
  },
  "toc": {
   "base_numbering": 1,
   "nav_menu": {},
   "number_sections": true,
   "sideBar": true,
   "skip_h1_title": true,
   "title_cell": "Содержание",
   "title_sidebar": "Contents",
   "toc_cell": true,
   "toc_position": {
    "height": "calc(100% - 180px)",
    "left": "10px",
    "top": "150px",
    "width": "288px"
   },
   "toc_section_display": true,
   "toc_window_display": false
  }
 },
 "nbformat": 4,
 "nbformat_minor": 5
}
